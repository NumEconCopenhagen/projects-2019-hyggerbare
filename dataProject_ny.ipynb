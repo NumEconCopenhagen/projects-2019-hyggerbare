{
 "cells": [
  {
   "cell_type": "markdown",
   "metadata": {},
   "source": [
    "# Data Project"
   ]
  },
  {
   "cell_type": "markdown",
   "metadata": {},
   "source": [
    "In this data project we analyze the evolution of US GDP and its four subcomponents covering the period from 2005 to 2017, extracting data from the FRED database. First, we describe the data using empirical moments. Moving on, we plot the raw time series in the same diagram to illustrate the upward trend. The interactive menu is used to inspect the series separately. Bar charts are constructed to illustrate the individual size differences of the four major demand components at three different selected points in time. Lastly, we transform the raw time series and plot the quarterly growth rates of total GDP and the four components to illustrate presence of business cycles and their cyclical nature."
   ]
  },
  {
   "cell_type": "code",
   "execution_count": 1,
   "metadata": {},
   "outputs": [],
   "source": [
    "# Importing packages:\n",
    "import numpy as np \n",
    "import pandas as pd \n",
    "import matplotlib.pyplot as plt \n",
    "import pandas_datareader\n",
    "import datetime\n",
    "import ipywidgets as widgets\n",
    "from ipywidgets import interact"
   ]
  },
  {
   "cell_type": "code",
   "execution_count": 2,
   "metadata": {},
   "outputs": [],
   "source": [
    "start = datetime.datetime(2005, 1, 1)\n",
    "end   = datetime.datetime(2017, 1, 1)\n",
    "\n",
    "# Fetching data from the Federal Reserve's API\n",
    "cons  = pandas_datareader.data.DataReader('PCEC', 'fred', start, end) # Private consumption\n",
    "inv   = pandas_datareader.data.DataReader('GPDI', 'fred', start, end) # Investments\n",
    "publ  = pandas_datareader.data.DataReader('FGEXPND', 'fred', start, end) # Government expenditures\n",
    "exp   = pandas_datareader.data.DataReader('NETEXP', 'fred', start, end) # Net exports"
   ]
  },
  {
   "cell_type": "code",
   "execution_count": 3,
   "metadata": {},
   "outputs": [],
   "source": [
    "# Merging data from FED to dataframe\n",
    "data_merged = pd.merge(cons, inv, how = 'left', on = ['DATE'])\n",
    "\n",
    "for i in exp, publ:\n",
    "    # i. merging remaining variables to dataframe\n",
    "    data_merged = pd.merge(data_merged, i, how = 'left', on = ['DATE'])\n",
    "    \n",
    "# Defining names for columns\n",
    "variable = {} \n",
    "variable['PCEC']    = 'Private Consumption'\n",
    "variable['FGEXPND'] = 'Government Expenditures'\n",
    "variable['GPDI']    = 'Investment'\n",
    "variable['NETEXP']  = 'Net Exports'\n",
    "\n",
    "# Renaming columns and calculating GDP as the sum of the former variables\n",
    "data_merged.rename(columns = variable, inplace=True)\n",
    "data_merged['Gross Domestic Product'] = data_merged.sum(axis = 1)"
   ]
  },
  {
   "cell_type": "code",
   "execution_count": 4,
   "metadata": {},
   "outputs": [
    {
     "data": {
      "text/html": [
       "<div>\n",
       "<style scoped>\n",
       "    .dataframe tbody tr th:only-of-type {\n",
       "        vertical-align: middle;\n",
       "    }\n",
       "\n",
       "    .dataframe tbody tr th {\n",
       "        vertical-align: top;\n",
       "    }\n",
       "\n",
       "    .dataframe thead th {\n",
       "        text-align: right;\n",
       "    }\n",
       "</style>\n",
       "<table border=\"1\" class=\"dataframe\">\n",
       "  <thead>\n",
       "    <tr style=\"text-align: right;\">\n",
       "      <th></th>\n",
       "      <th>Private Consumption</th>\n",
       "      <th>Investment</th>\n",
       "      <th>Net Exports</th>\n",
       "      <th>Government Expenditures</th>\n",
       "      <th>Gross Domestic Product</th>\n",
       "    </tr>\n",
       "  </thead>\n",
       "  <tbody>\n",
       "    <tr>\n",
       "      <th>count</th>\n",
       "      <td>49.000000</td>\n",
       "      <td>49.000000</td>\n",
       "      <td>49.000000</td>\n",
       "      <td>49.000000</td>\n",
       "      <td>49.000000</td>\n",
       "    </tr>\n",
       "    <tr>\n",
       "      <th>mean</th>\n",
       "      <td>10681.419143</td>\n",
       "      <td>2653.241367</td>\n",
       "      <td>-585.892408</td>\n",
       "      <td>3531.172592</td>\n",
       "      <td>16279.940694</td>\n",
       "    </tr>\n",
       "    <tr>\n",
       "      <th>std</th>\n",
       "      <td>1244.921063</td>\n",
       "      <td>389.802704</td>\n",
       "      <td>117.696838</td>\n",
       "      <td>504.477351</td>\n",
       "      <td>2037.448460</td>\n",
       "    </tr>\n",
       "    <tr>\n",
       "      <th>min</th>\n",
       "      <td>8522.955000</td>\n",
       "      <td>1841.416000</td>\n",
       "      <td>-805.630000</td>\n",
       "      <td>2557.429000</td>\n",
       "      <td>12891.862000</td>\n",
       "    </tr>\n",
       "    <tr>\n",
       "      <th>25%</th>\n",
       "      <td>9760.216000</td>\n",
       "      <td>2476.474000</td>\n",
       "      <td>-703.687000</td>\n",
       "      <td>3062.772000</td>\n",
       "      <td>14705.146000</td>\n",
       "    </tr>\n",
       "    <tr>\n",
       "      <th>50%</th>\n",
       "      <td>10485.358000</td>\n",
       "      <td>2645.263000</td>\n",
       "      <td>-540.838000</td>\n",
       "      <td>3772.624000</td>\n",
       "      <td>15957.865000</td>\n",
       "    </tr>\n",
       "    <tr>\n",
       "      <th>75%</th>\n",
       "      <td>11573.881000</td>\n",
       "      <td>2910.546000</td>\n",
       "      <td>-509.981000</td>\n",
       "      <td>3873.071000</td>\n",
       "      <td>17807.559000</td>\n",
       "    </tr>\n",
       "    <tr>\n",
       "      <th>max</th>\n",
       "      <td>13114.118000</td>\n",
       "      <td>3278.613000</td>\n",
       "      <td>-338.611000</td>\n",
       "      <td>4228.332000</td>\n",
       "      <td>20044.501000</td>\n",
       "    </tr>\n",
       "  </tbody>\n",
       "</table>\n",
       "</div>"
      ],
      "text/plain": [
       "       Private Consumption   Investment  Net Exports  Government Expenditures  \\\n",
       "count            49.000000    49.000000    49.000000                49.000000   \n",
       "mean          10681.419143  2653.241367  -585.892408              3531.172592   \n",
       "std            1244.921063   389.802704   117.696838               504.477351   \n",
       "min            8522.955000  1841.416000  -805.630000              2557.429000   \n",
       "25%            9760.216000  2476.474000  -703.687000              3062.772000   \n",
       "50%           10485.358000  2645.263000  -540.838000              3772.624000   \n",
       "75%           11573.881000  2910.546000  -509.981000              3873.071000   \n",
       "max           13114.118000  3278.613000  -338.611000              4228.332000   \n",
       "\n",
       "       Gross Domestic Product  \n",
       "count               49.000000  \n",
       "mean             16279.940694  \n",
       "std               2037.448460  \n",
       "min              12891.862000  \n",
       "25%              14705.146000  \n",
       "50%              15957.865000  \n",
       "75%              17807.559000  \n",
       "max              20044.501000  "
      ]
     },
     "execution_count": 4,
     "metadata": {},
     "output_type": "execute_result"
    }
   ],
   "source": [
    "data_merged.describe()"
   ]
  },
  {
   "cell_type": "markdown",
   "metadata": {},
   "source": [
    "Our sample consists of time series of macroeconomic variables containing 49 quarterly observations. On average, GDP was 16,279.9 billion dollars throughout the period. The empirical distribution of GDP seems rather symmetric as the mean is located close to the 50th percentile. This observation is further supported by the relative size of the standard deviation compared to the mean; $\\frac{2037.4}{16,279.9} = 0.125$.\n",
    "Similar distributional patterns apply to the remaining components. \n",
    "\n",
    "Furthermore, we note that the net exports are negative for all observations due to the US importing more goods and services than exporting. The sum of the four demand components equals the GDP. "
   ]
  },
  {
   "cell_type": "code",
   "execution_count": 13,
   "metadata": {},
   "outputs": [
    {
     "data": {
      "application/vnd.jupyter.widget-view+json": {
       "model_id": "287f0ed8ea094d909d25ef75233b0bfb",
       "version_major": 2,
       "version_minor": 0
      },
      "text/plain": [
       "interactive(children=(Dropdown(description='x', options=('All', 'Gross Domestic Product', 'Private Consumption…"
      ]
     },
     "metadata": {},
     "output_type": "display_data"
    },
    {
     "data": {
      "text/plain": [
       "<function __main__.draw(x)>"
      ]
     },
     "execution_count": 13,
     "metadata": {},
     "output_type": "execute_result"
    }
   ],
   "source": [
    "# Creating an interactive figure with all time series\n",
    "\n",
    "\n",
    "def draw(x):\n",
    "    \"\"\" Function used in the interactive plot, showing either\n",
    "        all series og chosen series.\n",
    "    \n",
    "    Args:\n",
    "        x: series to plot\n",
    "    \n",
    "    Returns:\n",
    "        plot: depending on chosen series, function returns a plot\n",
    "        \n",
    "    \"\"\"\n",
    "\n",
    "    \n",
    "    if x == 'All': \n",
    "        figure = plt.figure()\n",
    "        ax0    = data_merged.plot(grid = True)\n",
    "        plt.xlabel('Year')\n",
    "        plt.ylabel('Bil. $US (Current prices, seasonally adjusted)')\n",
    "    else:  \n",
    "        figure = plt.figure()\n",
    "        ax0     = data_merged[x].plot(grid = True)\n",
    "        plt.xlabel('Year')\n",
    "        plt.ylabel('Bil. $US (Current prices, seasonally adjusted)')\n",
    "        return plt.show() \n",
    "\n",
    "# Options for drop-down menu\n",
    "Series = ['All', 'Gross Domestic Product', 'Private Consumption', \n",
    "          'Government Expenditures', 'Investment', 'Net Exports']    \n",
    "interact(draw, x = Series)"
   ]
  },
  {
   "cell_type": "markdown",
   "metadata": {},
   "source": [
    "## Time series\n",
    "\n",
    "As mentioned, GDP can be decomposed into four major components: private consumption, investment, government expenditures and net export. In the figure above, total GDP has been plotted along with its four subcomponents. \n",
    "\n",
    "From the figure it is clear that private consumption is by far the largest component, accounting for around two-thirds of total GDP. Investment and government expenditures are around the same size. Net exports are surely the smallest component of total GDP.\n",
    "\n",
    "Considering only GDP using the drop-down menu, it is clear that GDP has been trending upwards and the growth rate appears to have been fairly constant. This is disregarding small fluctuations and ignoring the financial crisis around 2008.  \n",
    "The financial crisis is evident in all series. Note however that net exports increases possibly due to a huge decline in national demand.\n",
    "\n",
    "Government expenditures appear to be independent (if not counter-cyclical) of business cycles since public expenditure is often increased in an attempt to stimulate an economy in periods of contraction."
   ]
  },
  {
   "cell_type": "code",
   "execution_count": 6,
   "metadata": {},
   "outputs": [],
   "source": [
    "# Creating shares of total GDP\n",
    "ratios = data_merged.copy()\n",
    "choose = ('Private Consumption', 'Investment','Net Exports', 'Government Expenditures')\n",
    "for var in choose:\n",
    "    # i. calculating ratios of total GDP for each variable\n",
    "    ratios[var]    = ratios[var]/ratios['Gross Domestic Product']*100"
   ]
  },
  {
   "cell_type": "code",
   "execution_count": 7,
   "metadata": {},
   "outputs": [
    {
     "data": {
      "image/png": "[encoded data removed]",
      "text/plain": [
       "<Figure size 432x288 with 1 Axes>"
      ]
     },
     "metadata": {
      "needs_background": "light"
     },
     "output_type": "display_data"
    },
    {
     "data": {
      "image/png": "[encoded data removed]",
      "text/plain": [
       "<Figure size 432x288 with 1 Axes>"
      ]
     },
     "metadata": {
      "needs_background": "light"
     },
     "output_type": "display_data"
    },
    {
     "data": {
      "image/png": "[encoded data removed]",
      "text/plain": [
       "<Figure size 432x288 with 1 Axes>"
      ]
     },
     "metadata": {
      "needs_background": "light"
     },
     "output_type": "display_data"
    }
   ],
   "source": [
    "# Plotting shares of GDP at different points in time\n",
    "objects = ('Private Consumption', 'Investment', 'Net Exports', 'Government Expenditures')\n",
    "y_pos = np.arange(len(objects))\n",
    "\n",
    "for i in 0, 17, 36:    \n",
    "    # i. defining the input to the bar chart\n",
    "    performance = [ratios['Private Consumption'][i], ratios['Investment'][i], \n",
    "                   ratios['Net Exports'][i], ratios['Government Expenditures'][i]]\n",
    "    \n",
    "    # ii. plotting the bar chart, naming labels and title\n",
    "    plt.figure()\n",
    "    plt.bar(y_pos, performance, align = 'center', color = 'lightblue')\n",
    "    plt.xticks(y_pos, objects)\n",
    "    plt.ylabel('Percentage share of GDP')\n",
    "    plt.title('Shares of total GDP '+str(ratios.index[i]))"
   ]
  },
  {
   "cell_type": "markdown",
   "metadata": {},
   "source": [
    "## Bar charts\n",
    "\n",
    "The bar charts above provides a graphical presentation of the relative size of the four demand components. It is evident that private cosumption appear to account for approximately 2/3 of total GDP. Investment and government expenditures each accounts for close to 1/5 of total GDP whereas net exports contributes negatively. \n",
    "\n",
    "As it is apparent from the figures, the demand components to GDP ratios are relatively constant over time. "
   ]
  },
  {
   "cell_type": "code",
   "execution_count": 8,
   "metadata": {},
   "outputs": [
    {
     "ename": "KeyError",
     "evalue": "'Neat Exports'",
     "output_type": "error",
     "traceback": [
      "\u001b[0;31m---------------------------------------------------------------------------\u001b[0m",
      "\u001b[0;31mKeyError\u001b[0m                                  Traceback (most recent call last)",
      "\u001b[0;32m/anaconda3/lib/python3.7/site-packages/pandas/core/indexes/base.py\u001b[0m in \u001b[0;36mget_loc\u001b[0;34m(self, key, method, tolerance)\u001b[0m\n\u001b[1;32m   3077\u001b[0m             \u001b[0;32mtry\u001b[0m\u001b[0;34m:\u001b[0m\u001b[0;34m\u001b[0m\u001b[0;34m\u001b[0m\u001b[0m\n\u001b[0;32m-> 3078\u001b[0;31m                 \u001b[0;32mreturn\u001b[0m \u001b[0mself\u001b[0m\u001b[0;34m.\u001b[0m\u001b[0m_engine\u001b[0m\u001b[0;34m.\u001b[0m\u001b[0mget_loc\u001b[0m\u001b[0;34m(\u001b[0m\u001b[0mkey\u001b[0m\u001b[0;34m)\u001b[0m\u001b[0;34m\u001b[0m\u001b[0;34m\u001b[0m\u001b[0m\n\u001b[0m\u001b[1;32m   3079\u001b[0m             \u001b[0;32mexcept\u001b[0m \u001b[0mKeyError\u001b[0m\u001b[0;34m:\u001b[0m\u001b[0;34m\u001b[0m\u001b[0;34m\u001b[0m\u001b[0m\n",
      "\u001b[0;32mpandas/_libs/index.pyx\u001b[0m in \u001b[0;36mpandas._libs.index.IndexEngine.get_loc\u001b[0;34m()\u001b[0m\n",
      "\u001b[0;32mpandas/_libs/index.pyx\u001b[0m in \u001b[0;36mpandas._libs.index.IndexEngine.get_loc\u001b[0;34m()\u001b[0m\n",
      "\u001b[0;32mpandas/_libs/hashtable_class_helper.pxi\u001b[0m in \u001b[0;36mpandas._libs.hashtable.PyObjectHashTable.get_item\u001b[0;34m()\u001b[0m\n",
      "\u001b[0;32mpandas/_libs/hashtable_class_helper.pxi\u001b[0m in \u001b[0;36mpandas._libs.hashtable.PyObjectHashTable.get_item\u001b[0;34m()\u001b[0m\n",
      "\u001b[0;31mKeyError\u001b[0m: 'Neat Exports'",
      "\nDuring handling of the above exception, another exception occurred:\n",
      "\u001b[0;31mKeyError\u001b[0m                                  Traceback (most recent call last)",
      "\u001b[0;32m<ipython-input-8-9c4c8bf64399>\u001b[0m in \u001b[0;36m<module>\u001b[0;34m\u001b[0m\n\u001b[1;32m      6\u001b[0m \u001b[0;32mfor\u001b[0m \u001b[0mi\u001b[0m \u001b[0;32min\u001b[0m \u001b[0mListe\u001b[0m\u001b[0;34m:\u001b[0m\u001b[0;34m\u001b[0m\u001b[0;34m\u001b[0m\u001b[0m\n\u001b[1;32m      7\u001b[0m     \u001b[0;31m# i. percentage change of each variable\u001b[0m\u001b[0;34m\u001b[0m\u001b[0;34m\u001b[0m\u001b[0;34m\u001b[0m\u001b[0m\n\u001b[0;32m----> 8\u001b[0;31m     \u001b[0mdata_merged_copy\u001b[0m\u001b[0;34m[\u001b[0m\u001b[0mi\u001b[0m\u001b[0;34m+\u001b[0m\u001b[0;34m'_Growth'\u001b[0m\u001b[0;34m]\u001b[0m \u001b[0;34m=\u001b[0m \u001b[0mdata_merged_copy\u001b[0m\u001b[0;34m[\u001b[0m\u001b[0mi\u001b[0m\u001b[0;34m]\u001b[0m\u001b[0;34m.\u001b[0m\u001b[0mpct_change\u001b[0m\u001b[0;34m(\u001b[0m\u001b[0;34m)\u001b[0m\u001b[0;34m\u001b[0m\u001b[0;34m\u001b[0m\u001b[0m\n\u001b[0m\u001b[1;32m      9\u001b[0m \u001b[0;34m\u001b[0m\u001b[0m\n\u001b[1;32m     10\u001b[0m \u001b[0;31m# Multiplying 'Net Exports_Growth' column by -1 as we have learned that df.pct_change()\u001b[0m\u001b[0;34m\u001b[0m\u001b[0;34m\u001b[0m\u001b[0;34m\u001b[0m\u001b[0m\n",
      "\u001b[0;32m/anaconda3/lib/python3.7/site-packages/pandas/core/frame.py\u001b[0m in \u001b[0;36m__getitem__\u001b[0;34m(self, key)\u001b[0m\n\u001b[1;32m   2686\u001b[0m             \u001b[0;32mreturn\u001b[0m \u001b[0mself\u001b[0m\u001b[0;34m.\u001b[0m\u001b[0m_getitem_multilevel\u001b[0m\u001b[0;34m(\u001b[0m\u001b[0mkey\u001b[0m\u001b[0;34m)\u001b[0m\u001b[0;34m\u001b[0m\u001b[0;34m\u001b[0m\u001b[0m\n\u001b[1;32m   2687\u001b[0m         \u001b[0;32melse\u001b[0m\u001b[0;34m:\u001b[0m\u001b[0;34m\u001b[0m\u001b[0;34m\u001b[0m\u001b[0m\n\u001b[0;32m-> 2688\u001b[0;31m             \u001b[0;32mreturn\u001b[0m \u001b[0mself\u001b[0m\u001b[0;34m.\u001b[0m\u001b[0m_getitem_column\u001b[0m\u001b[0;34m(\u001b[0m\u001b[0mkey\u001b[0m\u001b[0;34m)\u001b[0m\u001b[0;34m\u001b[0m\u001b[0;34m\u001b[0m\u001b[0m\n\u001b[0m\u001b[1;32m   2689\u001b[0m \u001b[0;34m\u001b[0m\u001b[0m\n\u001b[1;32m   2690\u001b[0m     \u001b[0;32mdef\u001b[0m \u001b[0m_getitem_column\u001b[0m\u001b[0;34m(\u001b[0m\u001b[0mself\u001b[0m\u001b[0;34m,\u001b[0m \u001b[0mkey\u001b[0m\u001b[0;34m)\u001b[0m\u001b[0;34m:\u001b[0m\u001b[0;34m\u001b[0m\u001b[0;34m\u001b[0m\u001b[0m\n",
      "\u001b[0;32m/anaconda3/lib/python3.7/site-packages/pandas/core/frame.py\u001b[0m in \u001b[0;36m_getitem_column\u001b[0;34m(self, key)\u001b[0m\n\u001b[1;32m   2693\u001b[0m         \u001b[0;31m# get column\u001b[0m\u001b[0;34m\u001b[0m\u001b[0;34m\u001b[0m\u001b[0;34m\u001b[0m\u001b[0m\n\u001b[1;32m   2694\u001b[0m         \u001b[0;32mif\u001b[0m \u001b[0mself\u001b[0m\u001b[0;34m.\u001b[0m\u001b[0mcolumns\u001b[0m\u001b[0;34m.\u001b[0m\u001b[0mis_unique\u001b[0m\u001b[0;34m:\u001b[0m\u001b[0;34m\u001b[0m\u001b[0;34m\u001b[0m\u001b[0m\n\u001b[0;32m-> 2695\u001b[0;31m             \u001b[0;32mreturn\u001b[0m \u001b[0mself\u001b[0m\u001b[0;34m.\u001b[0m\u001b[0m_get_item_cache\u001b[0m\u001b[0;34m(\u001b[0m\u001b[0mkey\u001b[0m\u001b[0;34m)\u001b[0m\u001b[0;34m\u001b[0m\u001b[0;34m\u001b[0m\u001b[0m\n\u001b[0m\u001b[1;32m   2696\u001b[0m \u001b[0;34m\u001b[0m\u001b[0m\n\u001b[1;32m   2697\u001b[0m         \u001b[0;31m# duplicate columns & possible reduce dimensionality\u001b[0m\u001b[0;34m\u001b[0m\u001b[0;34m\u001b[0m\u001b[0;34m\u001b[0m\u001b[0m\n",
      "\u001b[0;32m/anaconda3/lib/python3.7/site-packages/pandas/core/generic.py\u001b[0m in \u001b[0;36m_get_item_cache\u001b[0;34m(self, item)\u001b[0m\n\u001b[1;32m   2487\u001b[0m         \u001b[0mres\u001b[0m \u001b[0;34m=\u001b[0m \u001b[0mcache\u001b[0m\u001b[0;34m.\u001b[0m\u001b[0mget\u001b[0m\u001b[0;34m(\u001b[0m\u001b[0mitem\u001b[0m\u001b[0;34m)\u001b[0m\u001b[0;34m\u001b[0m\u001b[0;34m\u001b[0m\u001b[0m\n\u001b[1;32m   2488\u001b[0m         \u001b[0;32mif\u001b[0m \u001b[0mres\u001b[0m \u001b[0;32mis\u001b[0m \u001b[0;32mNone\u001b[0m\u001b[0;34m:\u001b[0m\u001b[0;34m\u001b[0m\u001b[0;34m\u001b[0m\u001b[0m\n\u001b[0;32m-> 2489\u001b[0;31m             \u001b[0mvalues\u001b[0m \u001b[0;34m=\u001b[0m \u001b[0mself\u001b[0m\u001b[0;34m.\u001b[0m\u001b[0m_data\u001b[0m\u001b[0;34m.\u001b[0m\u001b[0mget\u001b[0m\u001b[0;34m(\u001b[0m\u001b[0mitem\u001b[0m\u001b[0;34m)\u001b[0m\u001b[0;34m\u001b[0m\u001b[0;34m\u001b[0m\u001b[0m\n\u001b[0m\u001b[1;32m   2490\u001b[0m             \u001b[0mres\u001b[0m \u001b[0;34m=\u001b[0m \u001b[0mself\u001b[0m\u001b[0;34m.\u001b[0m\u001b[0m_box_item_values\u001b[0m\u001b[0;34m(\u001b[0m\u001b[0mitem\u001b[0m\u001b[0;34m,\u001b[0m \u001b[0mvalues\u001b[0m\u001b[0;34m)\u001b[0m\u001b[0;34m\u001b[0m\u001b[0;34m\u001b[0m\u001b[0m\n\u001b[1;32m   2491\u001b[0m             \u001b[0mcache\u001b[0m\u001b[0;34m[\u001b[0m\u001b[0mitem\u001b[0m\u001b[0;34m]\u001b[0m \u001b[0;34m=\u001b[0m \u001b[0mres\u001b[0m\u001b[0;34m\u001b[0m\u001b[0;34m\u001b[0m\u001b[0m\n",
      "\u001b[0;32m/anaconda3/lib/python3.7/site-packages/pandas/core/internals.py\u001b[0m in \u001b[0;36mget\u001b[0;34m(self, item, fastpath)\u001b[0m\n\u001b[1;32m   4113\u001b[0m \u001b[0;34m\u001b[0m\u001b[0m\n\u001b[1;32m   4114\u001b[0m             \u001b[0;32mif\u001b[0m \u001b[0;32mnot\u001b[0m \u001b[0misna\u001b[0m\u001b[0;34m(\u001b[0m\u001b[0mitem\u001b[0m\u001b[0;34m)\u001b[0m\u001b[0;34m:\u001b[0m\u001b[0;34m\u001b[0m\u001b[0;34m\u001b[0m\u001b[0m\n\u001b[0;32m-> 4115\u001b[0;31m                 \u001b[0mloc\u001b[0m \u001b[0;34m=\u001b[0m \u001b[0mself\u001b[0m\u001b[0;34m.\u001b[0m\u001b[0mitems\u001b[0m\u001b[0;34m.\u001b[0m\u001b[0mget_loc\u001b[0m\u001b[0;34m(\u001b[0m\u001b[0mitem\u001b[0m\u001b[0;34m)\u001b[0m\u001b[0;34m\u001b[0m\u001b[0;34m\u001b[0m\u001b[0m\n\u001b[0m\u001b[1;32m   4116\u001b[0m             \u001b[0;32melse\u001b[0m\u001b[0;34m:\u001b[0m\u001b[0;34m\u001b[0m\u001b[0;34m\u001b[0m\u001b[0m\n\u001b[1;32m   4117\u001b[0m                 \u001b[0mindexer\u001b[0m \u001b[0;34m=\u001b[0m \u001b[0mnp\u001b[0m\u001b[0;34m.\u001b[0m\u001b[0marange\u001b[0m\u001b[0;34m(\u001b[0m\u001b[0mlen\u001b[0m\u001b[0;34m(\u001b[0m\u001b[0mself\u001b[0m\u001b[0;34m.\u001b[0m\u001b[0mitems\u001b[0m\u001b[0;34m)\u001b[0m\u001b[0;34m)\u001b[0m\u001b[0;34m[\u001b[0m\u001b[0misna\u001b[0m\u001b[0;34m(\u001b[0m\u001b[0mself\u001b[0m\u001b[0;34m.\u001b[0m\u001b[0mitems\u001b[0m\u001b[0;34m)\u001b[0m\u001b[0;34m]\u001b[0m\u001b[0;34m\u001b[0m\u001b[0;34m\u001b[0m\u001b[0m\n",
      "\u001b[0;32m/anaconda3/lib/python3.7/site-packages/pandas/core/indexes/base.py\u001b[0m in \u001b[0;36mget_loc\u001b[0;34m(self, key, method, tolerance)\u001b[0m\n\u001b[1;32m   3078\u001b[0m                 \u001b[0;32mreturn\u001b[0m \u001b[0mself\u001b[0m\u001b[0;34m.\u001b[0m\u001b[0m_engine\u001b[0m\u001b[0;34m.\u001b[0m\u001b[0mget_loc\u001b[0m\u001b[0;34m(\u001b[0m\u001b[0mkey\u001b[0m\u001b[0;34m)\u001b[0m\u001b[0;34m\u001b[0m\u001b[0;34m\u001b[0m\u001b[0m\n\u001b[1;32m   3079\u001b[0m             \u001b[0;32mexcept\u001b[0m \u001b[0mKeyError\u001b[0m\u001b[0;34m:\u001b[0m\u001b[0;34m\u001b[0m\u001b[0;34m\u001b[0m\u001b[0m\n\u001b[0;32m-> 3080\u001b[0;31m                 \u001b[0;32mreturn\u001b[0m \u001b[0mself\u001b[0m\u001b[0;34m.\u001b[0m\u001b[0m_engine\u001b[0m\u001b[0;34m.\u001b[0m\u001b[0mget_loc\u001b[0m\u001b[0;34m(\u001b[0m\u001b[0mself\u001b[0m\u001b[0;34m.\u001b[0m\u001b[0m_maybe_cast_indexer\u001b[0m\u001b[0;34m(\u001b[0m\u001b[0mkey\u001b[0m\u001b[0;34m)\u001b[0m\u001b[0;34m)\u001b[0m\u001b[0;34m\u001b[0m\u001b[0;34m\u001b[0m\u001b[0m\n\u001b[0m\u001b[1;32m   3081\u001b[0m \u001b[0;34m\u001b[0m\u001b[0m\n\u001b[1;32m   3082\u001b[0m         \u001b[0mindexer\u001b[0m \u001b[0;34m=\u001b[0m \u001b[0mself\u001b[0m\u001b[0;34m.\u001b[0m\u001b[0mget_indexer\u001b[0m\u001b[0;34m(\u001b[0m\u001b[0;34m[\u001b[0m\u001b[0mkey\u001b[0m\u001b[0;34m]\u001b[0m\u001b[0;34m,\u001b[0m \u001b[0mmethod\u001b[0m\u001b[0;34m=\u001b[0m\u001b[0mmethod\u001b[0m\u001b[0;34m,\u001b[0m \u001b[0mtolerance\u001b[0m\u001b[0;34m=\u001b[0m\u001b[0mtolerance\u001b[0m\u001b[0;34m)\u001b[0m\u001b[0;34m\u001b[0m\u001b[0;34m\u001b[0m\u001b[0m\n",
      "\u001b[0;32mpandas/_libs/index.pyx\u001b[0m in \u001b[0;36mpandas._libs.index.IndexEngine.get_loc\u001b[0;34m()\u001b[0m\n",
      "\u001b[0;32mpandas/_libs/index.pyx\u001b[0m in \u001b[0;36mpandas._libs.index.IndexEngine.get_loc\u001b[0;34m()\u001b[0m\n",
      "\u001b[0;32mpandas/_libs/hashtable_class_helper.pxi\u001b[0m in \u001b[0;36mpandas._libs.hashtable.PyObjectHashTable.get_item\u001b[0;34m()\u001b[0m\n",
      "\u001b[0;32mpandas/_libs/hashtable_class_helper.pxi\u001b[0m in \u001b[0;36mpandas._libs.hashtable.PyObjectHashTable.get_item\u001b[0;34m()\u001b[0m\n",
      "\u001b[0;31mKeyError\u001b[0m: 'Neat Exports'"
     ]
    }
   ],
   "source": [
    "data_merged_copy = data_merged.copy()\n",
    "\n",
    "Liste = ['Gross Domestic Product', 'Private Consumption', \n",
    "         'Government Expenditures', 'Investment', 'Neat Exports']\n",
    "\n",
    "for i in Liste:\n",
    "    # i. percentage change of each variable\n",
    "    data_merged_copy[i+'_Growth'] = data_merged_copy[i].pct_change()\n",
    "\n",
    "# Multiplying 'Net Exports_Growth' column by -1 as we have learned that df.pct_change() \n",
    "# finds the right value but reversed (possibly due to the fact that Net Exports are negative).\n",
    "data_merged_copy['Net Exports_Growth'] = data_merged_copy['Net Exports_Growth'].mul(-1)    \n",
    " \n",
    "for i in Liste:    \n",
    "    # i. mean of each variable\n",
    "    data_merged_copy[i+' Mean'] = np.mean(data_merged_copy[i+'_Growth'])"
   ]
  },
  {
   "cell_type": "code",
   "execution_count": null,
   "metadata": {},
   "outputs": [],
   "source": [
    "# Plotting the quarterly growth rates seperately along with their mean\n",
    "for i in Liste:\n",
    "    plt.figure()\n",
    "    plt.xlabel('Date')\n",
    "    plt.ylabel('Quarterly Growth')\n",
    "    ax1 = data_merged_copy[i+'_Growth'].plot(color='blue', grid = True, label = 'Quarterly growth')\n",
    "    ax2 = data_merged_copy[i+' Mean'].plot(color='red', grid = True, label = 'Mean')\n",
    "    plt.title(i+' (growth rate)')\n",
    "    plt.show()\n",
    "    "
   ]
  },
  {
   "cell_type": "markdown",
   "metadata": {},
   "source": [
    "## Growth rates\n",
    "\n",
    "The figures above display the quarterly growth rates of total GDP and its four underlying components. Furthermore, the mean growth rates has been plotted as the red horizontal line. As argued from the inspection of the time series plots earlier, all series but net exports have positive mean growth rates indicating a positive trend. \n",
    "\n",
    "The growth rates are all fluctuating around their mean values in a varying degree. The growth rates of total GDP and private consumption does not seem to surpass a numeric value of 2 percent, making these two series the least volatile. \n",
    "\n",
    "Government expenditures are somewhat more volatile and as argued above it is worth noting the sharp increase in expenditures around 2008 which could indicate an expansionary fiscal response the extreme fall in demand. \n",
    "\n",
    "Although the percentage deviations of net exports are larger than those of investment, investment is considered the most volatile demand component. Investment reaches a peak growth rate of 5 percent and a low of around 12 percent. Investment are in theory highly driven by stock prices which - to a large degree - are influenced by expectations. Fluctuations in expectations could be part of the reason for large observed volatility.  \n",
    "\n",
    "The reason net exports appear so volatile is that it is a relatively small demand component and consists of imports and exports, both of which are usually considered less volatile than investments.\n",
    "\n",
    "As mentioned, the fluctuations in investment and government expenditures are relatively large. However, due to their relative sizes they do not affect total GDP as much as private consumption. A point made in the description of the raw time series."
   ]
  }
 ],
 "metadata": {
  "kernelspec": {
   "display_name": "Python 3",
   "language": "python",
   "name": "python3"
  },
  "language_info": {
   "codemirror_mode": {
    "name": "ipython",
    "version": 3
   },
   "file_extension": ".py",
   "mimetype": "text/x-python",
   "name": "python",
   "nbconvert_exporter": "python",
   "pygments_lexer": "ipython3",
   "version": "3.7.1"
  }
 },
 "nbformat": 4,
 "nbformat_minor": 2
}
